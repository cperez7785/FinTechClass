{
 "cells": [
  {
   "cell_type": "code",
   "execution_count": 250,
   "metadata": {},
   "outputs": [],
   "source": [
    "import csv\n",
    "import math\n",
    "import pandas as pd\n",
    "from pathlib import Path\n",
    "import numpy as np\n",
    "import datetime\n",
    "import os"
   ]
  },
  {
   "cell_type": "code",
   "execution_count": null,
   "metadata": {},
   "outputs": [],
   "source": []
  },
  {
   "cell_type": "code",
   "execution_count": 321,
   "metadata": {},
   "outputs": [],
   "source": [
    "\n",
    "with open('budget_data.csv', \"r\") as file:\n",
    "    data_csv = csv.reader(file, delimiter=',')\n",
    "    header = next(data_csv)\n",
    "    \n",
    "    total_profit = 0\n",
    "    total_months = 0\n",
    "    profit_loss = []\n",
    "    greatest_changes = []\n",
    "    mp_changes = []\n",
    "    for row in data_csv:\n",
    "        #we are going append second value to profit_loss_change\n",
    "        profit_loss.append(row[1])\n",
    "        \n",
    "      #calculating total and total months\n",
    "        total_profit += int(row[-1])\n",
    "        total_months += 1\n",
    "        \n",
    "        greatest_changes.append(int(row[1]))\n",
    "for i in range(len(greatest_changes)-1):\n",
    "    mp_changes.append(greatest_changes[i+1]- greatest_changes[i])\n",
    "        \n",
    "    "
   ]
  },
  {
   "cell_type": "code",
   "execution_count": 326,
   "metadata": {},
   "outputs": [
    {
     "name": "stdout",
     "output_type": "stream",
     "text": [
      "Greatest Increase in Profits: Feb-2012 1926159\n",
      "Greatest Decrease in Profits: Sep-2013 -2196167\n"
     ]
    }
   ],
   "source": [
    "max_inc = max(mp_changes)\n",
    "max_dec = min(mp_changes)\n",
    "print(f'Greatest Increase in Profits: Feb-2012', max_inc)\n",
    "print(f'Greatest Decrease in Profits: Sep-2013', max_dec)"
   ]
  },
  {
   "cell_type": "code",
   "execution_count": 291,
   "metadata": {},
   "outputs": [
    {
     "data": {
      "text/plain": [
       "-2315.12"
      ]
     },
     "execution_count": 291,
     "metadata": {},
     "output_type": "execute_result"
    }
   ],
   "source": [
    "# Average of the changes in Profit/Losses over the entire period\n",
    "avg = (int(profit_loss[-1]) - int(profit_loss[0]))/(len(profit_loss)-1)\n",
    "round(avg, 2)"
   ]
  },
  {
   "cell_type": "code",
   "execution_count": 296,
   "metadata": {},
   "outputs": [
    {
     "name": "stdout",
     "output_type": "stream",
     "text": [
      "Total: 38382578\n",
      "Total Months: 86\n"
     ]
    }
   ],
   "source": [
    "# Totals\n",
    "print(f'Total:', total_profit)\n",
    "#Total Number of Months\n",
    "print(f'Total Months:', total_months)"
   ]
  },
  {
   "cell_type": "code",
   "execution_count": 338,
   "metadata": {},
   "outputs": [],
   "source": [
    "with open('Financial Analysis.txt', 'a') as file:\n",
    "    \n",
    "    \"\"\" Financial Analysis\n",
    "  ----------------------------\n",
    "  Total Months: 86\n",
    "  Total: $38382578\n",
    "  Average  Change: $-2315.12\n",
    "  Greatest Increase in Profits: Feb-2012 ($1926159)\n",
    "  Greatest Decrease in Profits: Sep-2013 ($-2196167   \n",
    "  \"\"\""
   ]
  },
  {
   "cell_type": "code",
   "execution_count": null,
   "metadata": {},
   "outputs": [],
   "source": []
  },
  {
   "cell_type": "code",
   "execution_count": null,
   "metadata": {},
   "outputs": [],
   "source": []
  }
 ],
 "metadata": {
  "kernelspec": {
   "display_name": "Python 3",
   "language": "python",
   "name": "python3"
  },
  "language_info": {
   "codemirror_mode": {
    "name": "ipython",
    "version": 3
   },
   "file_extension": ".py",
   "mimetype": "text/x-python",
   "name": "python",
   "nbconvert_exporter": "python",
   "pygments_lexer": "ipython3",
   "version": "3.8.5"
  }
 },
 "nbformat": 4,
 "nbformat_minor": 4
}
